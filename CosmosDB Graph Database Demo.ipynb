{
 "cells": [
  {
   "cell_type": "markdown",
   "metadata": {},
   "source": [
    "# CosmosDB Graph Database\n",
    "\n",
    "This notebook shows how to connect and use [**Azure CosmosDB**](https://azure.microsoft.com/en-us/services/cosmos-db/) with the [Apache TinkerPop Gremlin API](https://tinkerpop.apache.org/) to model data as **graphs** using the [**CosmosDB Graph API**](https://docs.microsoft.com/en-us/azure/cosmos-db/graph-introduction).\n",
    "\n",
    "The goal is to show how easy is to create a **Serverless** Graph Database in Azure to model data as graphs. \n",
    "Graphs are extremely useful when dealing with complex relations, non-fixed schemas and large data sets. \n",
    "\n",
    "\n",
    "We will use Azure CosmosDB Graph API to create a simple Graph Database using Python.\n",
    "\n",
    "Please refer to the article for this notebook: \n"
   ]
  },
  {
   "cell_type": "markdown",
   "metadata": {},
   "source": [
    "## Setup (Optional)\n",
    "\n",
    "If you want to create your own DB, follow this instructions:\n",
    "\n",
    "- Log in into your Azure Portal\n",
    "- Create a database account, follow the oficial [**quickstart**](https://docs.microsoft.com/en-us/azure/cosmos-db/create-graph-python#create-a-database-account)\n",
    "- Add a [graph](https://docs.microsoft.com/en-us/azure/cosmos-db/create-graph-python#add-a-graph)\n",
    "\n",
    "Follow the detailed instructions in the article.\n"
   ]
  },
  {
   "cell_type": "markdown",
   "metadata": {},
   "source": [
    "## Demo\n",
    "\n",
    "Now that you have created a graph database in Azure, let's model some data.\n",
    "\n",
    "A graph is a structure that's composed of vertices and edges. Both objects can have an arbitrary number of key-value pairs as properties.\n",
    "\n",
    "- **Vertices/nodes**: Vertices denote discrete entities, such as a person, a place, or an event.\n",
    "\n",
    "- **Edges/relationships**: Edges denote relationships between vertices. For example, a person might know another person, be involved in an event, and recently been at a location.\n",
    "\n",
    "- **Properties**: Properties express information about the vertices and edges. There can be any number of properties in either vertices or edges, and they can be used to describe and filter the objects in a query. Example properties include a vertex that has name and age, or an edge, which can have a time stamp and/or a weight.\n",
    "\n",
    "- **Label**: A label is a name or the identifier of a vertex or an edge. Labels can group multiple vertices or edges such that all the vertices/edges in a group have a certain label. For example, a graph can have multiple vertices of label type \"person\".\n",
    "\n",
    "Graph databases are often included within the NoSQL or non-relational database category, since there is no dependency on a schema or constrained data model. This lack of schema allows for modeling and storing connected structures naturally and efficiently.\n",
    "\n",
    "![Cosmos DB](cosmos.png)\n",
    "\n"
   ]
  },
  {
   "cell_type": "markdown",
   "metadata": {},
   "source": [
    "As an example, we are going to try to model and very simplified version of Medium.com! \n",
    "\n",
    "The goal is to show how to create nodes and several relations. This is what we are going to model. \n",
    "\n",
    "Note that this is not the correct model for Medium.com, just an approximation.\n",
    "\n",
    "![Cosmos DB](demo.png)\n",
    "\n",
    "\n",
    "We have users, which may have memberships. If they own a membership they may be interested in some topics. A user may read and clap to articles. It may also add a comment to an article or publish a new article. An article has an id, title, body and tags. User, Article, Topic are the labels of the nodes."
   ]
  },
  {
   "cell_type": "markdown",
   "metadata": {},
   "source": [
    "We can use the [**Gremlin Console**](https://docs.microsoft.com/en-us/azure/cosmos-db/create-graph-gremlin-console) to add and query data using the browser. We can also use .Net, Java or other programing languages.\n",
    "\n",
    "In this notebook we will use **Python** to create the graph. Then, you can the built in data explorer to visualize the graph and execute Gremlin queries.\n",
    "\n",
    "Let's start by installing and importing the required libs. Note that we use the official Gremlin libs which are fully supported by Azure CosmosDB."
   ]
  },
  {
   "cell_type": "code",
   "execution_count": 7,
   "metadata": {},
   "outputs": [
    {
     "name": "stdout",
     "output_type": "stream",
     "text": [
      "Requirement already satisfied: gremlinpython in /home/javier/.local/lib/python3.8/site-packages (3.4.1)\n",
      "Requirement already satisfied: nest_asyncio in /home/javier/.local/lib/python3.8/site-packages (1.4.3)\n",
      "Requirement already satisfied: tornado<5.0,>=4.4.1 in /home/javier/.local/lib/python3.8/site-packages (from gremlinpython) (4.5.3)\n",
      "Requirement already satisfied: aenum>=1.4.5 in /home/javier/.local/lib/python3.8/site-packages (from gremlinpython) (2.2.6)\n",
      "Requirement already satisfied: six>=1.10.0 in /usr/lib/python3/dist-packages (from gremlinpython) (1.14.0)\n",
      "Requirement already satisfied: isodate>=0.6.0 in /home/javier/.local/lib/python3.8/site-packages (from gremlinpython) (0.6.0)\n",
      "Note: you may need to restart the kernel to use updated packages.\n"
     ]
    }
   ],
   "source": [
    "pip install gremlinpython nest_asyncio"
   ]
  },
  {
   "cell_type": "markdown",
   "metadata": {},
   "source": [
    "Note that you need to restart the notebook kernel after intalling this. \n",
    "Since the client uses an Async API with an event loop which is also used by Jupyter, we need to support nested event loops, to do so, we install [nest_asyncio](https://github.com/erdewit/nest_asyncio).\n",
    "\n",
    "Let's add the imports!"
   ]
  },
  {
   "cell_type": "code",
   "execution_count": 9,
   "metadata": {},
   "outputs": [],
   "source": [
    "from gremlin_python.driver import client, serializer\n",
    "import nest_asyncio\n",
    "nest_asyncio.apply()"
   ]
  },
  {
   "cell_type": "markdown",
   "metadata": {},
   "source": [
    "Let's intialize the client...\n",
    "\n",
    "Enter the URL for the GREMLIN ENDPOINT and the primary key.\n",
    "\n",
    "The username is in this format /dbs/{database}/colls/{graph}"
   ]
  },
  {
   "cell_type": "code",
   "execution_count": null,
   "metadata": {},
   "outputs": [],
   "source": [
    "client = client.Client('wss://gdemo.gremlin.cosmos.azure.com:443/', 'g',\n",
    "                       username=\"/dbs/demodb/colls/dgraph\",\n",
    "                       password=\"<ENTER_PRIMARY_KEY>\",\n",
    "                       message_serializer=serializer.GraphSONSerializersV2d0()\n",
    "                       )"
   ]
  },
  {
   "cell_type": "markdown",
   "metadata": {},
   "source": [
    "Let's define a simple function to execute any Gremlin query, since this is a demo, we will block the call..."
   ]
  },
  {
   "cell_type": "code",
   "execution_count": 11,
   "metadata": {},
   "outputs": [],
   "source": [
    "def run(queries):\n",
    "    for query in queries:\n",
    "        print(\"\\tRunning: {0}\".format(\n",
    "            query))\n",
    "        try:\n",
    "            callback = client.submitAsync(query)\n",
    "            if callback.result() is not None:\n",
    "                results = callback.result()\n",
    "                if results is not None:\n",
    "                    print(\"\\tSuccess!\")\n",
    "            else:\n",
    "                print(\"Something went wrong with this query: {0}\".format(query))\n",
    "        except Exception as e:\n",
    "            print('There was an exception: {0}'.format(e))"
   ]
  },
  {
   "cell_type": "markdown",
   "metadata": {},
   "source": [
    "**Optional**: Clean up the DB"
   ]
  },
  {
   "cell_type": "code",
   "execution_count": 49,
   "metadata": {},
   "outputs": [
    {
     "name": "stdout",
     "output_type": "stream",
     "text": [
      "\tRunning: g.V().drop()\n",
      "\tSuccess!\n"
     ]
    }
   ],
   "source": [
    "run([\"g.V().drop()\"])"
   ]
  },
  {
   "cell_type": "markdown",
   "metadata": {},
   "source": [
    "#### Let's add some data. \n",
    "\n",
    "First, we define the queries. Let's add a couple of users..."
   ]
  },
  {
   "cell_type": "code",
   "execution_count": 50,
   "metadata": {},
   "outputs": [],
   "source": [
    "init_user = [\n",
    "    \"g.addV('User').property('id', 'user1').property('name','User 1').property('pk_id', '1')\",\n",
    "    \"g.addV('User').property('id', 'user2').property('name','User 2').property('pk_id', '2').property('location','EU')\"\n",
    "]"
   ]
  },
  {
   "cell_type": "markdown",
   "metadata": {},
   "source": [
    "Note that we add an ID to easily reference the data, otherwise one UUID would be generated which is hard to interpret.\n",
    "\n",
    "Let's run the queries:"
   ]
  },
  {
   "cell_type": "code",
   "execution_count": 51,
   "metadata": {},
   "outputs": [
    {
     "name": "stdout",
     "output_type": "stream",
     "text": [
      "\tRunning: g.addV('User').property('id', 'user1').property('name','User 1').property('pk_id', '1')\n",
      "\tSuccess!\n",
      "\tRunning: g.addV('User').property('id', 'user2').property('name','User 2').property('pk_id', '2').property('location','EU')\n",
      "\tSuccess!\n"
     ]
    }
   ],
   "source": [
    "run(init_user)"
   ]
  },
  {
   "cell_type": "markdown",
   "metadata": {},
   "source": [
    "Next, let's add a membership for User 1:"
   ]
  },
  {
   "cell_type": "code",
   "execution_count": 52,
   "metadata": {},
   "outputs": [
    {
     "name": "stdout",
     "output_type": "stream",
     "text": [
      "\tRunning: g.addV('Membership').property('id', 'mem1').property('name','Membership 1').property('pk_id', '3').property('type','premium')\n",
      "\tSuccess!\n"
     ]
    }
   ],
   "source": [
    "run([\"g.addV('Membership').property('id', 'mem1').property('name','Membership 1').property('pk_id', '3').property('type','premium')\"])"
   ]
  },
  {
   "cell_type": "markdown",
   "metadata": {},
   "source": [
    "Let's add our first relation between User 1 and Membership 1:"
   ]
  },
  {
   "cell_type": "code",
   "execution_count": 53,
   "metadata": {},
   "outputs": [
    {
     "name": "stdout",
     "output_type": "stream",
     "text": [
      "\tRunning: g.V('user1').addE('has').to(g.V('mem1'))\n",
      "\tSuccess!\n"
     ]
    }
   ],
   "source": [
    "run([\"g.V('user1').addE('has').to(g.V('mem1'))\"])"
   ]
  },
  {
   "cell_type": "markdown",
   "metadata": {},
   "source": [
    "Next, we add some topics:"
   ]
  },
  {
   "cell_type": "code",
   "execution_count": 54,
   "metadata": {},
   "outputs": [
    {
     "name": "stdout",
     "output_type": "stream",
     "text": [
      "\tRunning: g.addV('Topic').property('id', 'topic1').property('name','Machine Learning').property('pk_id', '4')\n",
      "\tSuccess!\n",
      "\tRunning: g.addV('Topic').property('id', 'topic2').property('name','Big Data').property('pk_id', '5')\n",
      "\tSuccess!\n",
      "\tRunning: g.addV('Topic').property('id', 'topic3').property('name','Scala').property('pk_id', '6')\n",
      "\tSuccess!\n"
     ]
    }
   ],
   "source": [
    "init_topics = [\n",
    "    \"g.addV('Topic').property('id', 'topic1').property('name','Machine Learning').property('pk_id', '4')\",\n",
    "    \"g.addV('Topic').property('id', 'topic2').property('name','Big Data').property('pk_id', '5')\",\n",
    "    \"g.addV('Topic').property('id', 'topic3').property('name','Scala').property('pk_id', '6')\"\n",
    "]\n",
    "run(init_topics)"
   ]
  },
  {
   "cell_type": "markdown",
   "metadata": {},
   "source": [
    "And some articles:"
   ]
  },
  {
   "cell_type": "code",
   "execution_count": 55,
   "metadata": {},
   "outputs": [
    {
     "name": "stdout",
     "output_type": "stream",
     "text": [
      "\tRunning: g.addV('Article').property('id', 'article1').property('name','The Secrets of NLP').property('pk_id', '7').property('body', 'blah').property('tags','nlp,ml,python')\n",
      "\tSuccess!\n",
      "\tRunning: g.addV('Article').property('id', 'article2').property('name','Apache Spark Optimizations').property('pk_id', '8').property('body', 'blah').property('tags','none')\n",
      "\tSuccess!\n",
      "\tRunning: g.addV('Article').property('id', 'article3').property('name','Introduction to Scala').property('pk_id', '9').property('body', 'blah')\n",
      "\tSuccess!\n"
     ]
    }
   ],
   "source": [
    "init_articles = [\n",
    "    \"g.addV('Article').property('id', 'article1').property('name','The Secrets of NLP').property('pk_id', '7').property('body', 'blah').property('tags','nlp,ml,python')\",\n",
    "    \"g.addV('Article').property('id', 'article2').property('name','Apache Spark Optimizations').property('pk_id', '8').property('body', 'blah').property('tags','none')\",\n",
    "    \"g.addV('Article').property('id', 'article3').property('name','Introduction to Scala').property('pk_id', '9').property('body', 'blah')\"\n",
    "]\n",
    "run(init_articles)"
   ]
  },
  {
   "cell_type": "markdown",
   "metadata": {},
   "source": [
    "Let's add relations to topics, let's relate some articles to topics and some memberships as well:"
   ]
  },
  {
   "cell_type": "code",
   "execution_count": 56,
   "metadata": {},
   "outputs": [
    {
     "name": "stdout",
     "output_type": "stream",
     "text": [
      "\tRunning: g.V('mem1').addE('likes').to(g.V('topic1'))\n",
      "\tSuccess!\n",
      "\tRunning: g.V('mem1').addE('likes').to(g.V('topic2'))\n",
      "\tSuccess!\n",
      "\tRunning: g.V('article1').addE('has').to(g.V('topic1'))\n",
      "\tSuccess!\n",
      "\tRunning: g.V('article2').addE('has').to(g.V('topic2'))\n",
      "\tSuccess!\n",
      "\tRunning: g.V('article2').addE('has').to(g.V('topic1'))\n",
      "\tSuccess!\n",
      "\tRunning: g.V('article3').addE('has').to(g.V('topic3'))\n",
      "\tSuccess!\n"
     ]
    }
   ],
   "source": [
    "add_topic_relations = [\n",
    "    \"g.V('mem1').addE('likes').to(g.V('topic1'))\",\n",
    "    \"g.V('mem1').addE('likes').to(g.V('topic2'))\",\n",
    "    \"g.V('article1').addE('has').to(g.V('topic1'))\",\n",
    "    \"g.V('article2').addE('has').to(g.V('topic2'))\",\n",
    "    \"g.V('article2').addE('has').to(g.V('topic1'))\",\n",
    "    \"g.V('article3').addE('has').to(g.V('topic3'))\",\n",
    "]\n",
    "run(add_topic_relations)"
   ]
  },
  {
   "cell_type": "markdown",
   "metadata": {},
   "source": [
    "Next, let's add read and publish relations:"
   ]
  },
  {
   "cell_type": "code",
   "execution_count": 57,
   "metadata": {},
   "outputs": [
    {
     "name": "stdout",
     "output_type": "stream",
     "text": [
      "\tRunning: g.V('user1').addE('reads').to(g.V('article1'))\n",
      "\tSuccess!\n",
      "\tRunning: g.V('user1').addE('reads').to(g.V('article3'))\n",
      "\tSuccess!\n",
      "\tRunning: g.V('user2').addE('reads').to(g.V('article2'))\n",
      "\tSuccess!\n",
      "\tRunning: g.V('user2').addE('publish').to(g.V('article1')).property('date', '2020-11-11')\n",
      "\tSuccess!\n",
      "\tRunning: g.V('user2').addE('publish').to(g.V('article3')).property('date', '2019-11-11')\n",
      "\tSuccess!\n",
      "\tRunning: g.V('user1').addE('publish').to(g.V('article2')).property('date', '2020-11-12')\n",
      "\tSuccess!\n"
     ]
    }
   ],
   "source": [
    "read_pub_relations = [\n",
    "    \"g.V('user1').addE('reads').to(g.V('article1'))\",\n",
    "    \"g.V('user1').addE('reads').to(g.V('article3'))\",\n",
    "    \"g.V('user2').addE('reads').to(g.V('article2'))\",\n",
    "    \"g.V('user2').addE('publish').to(g.V('article1')).property('date', '2020-11-11')\",\n",
    "    \"g.V('user2').addE('publish').to(g.V('article3')).property('date', '2019-11-11')\",\n",
    "    \"g.V('user1').addE('publish').to(g.V('article2')).property('date', '2020-11-12')\"\n",
    "]\n",
    "run(read_pub_relations)"
   ]
  },
  {
   "cell_type": "markdown",
   "metadata": {},
   "source": [
    "Finally, let's add a comment:"
   ]
  },
  {
   "cell_type": "code",
   "execution_count": 59,
   "metadata": {},
   "outputs": [
    {
     "name": "stdout",
     "output_type": "stream",
     "text": [
      "\tRunning: g.V('user1').addE('comment').to(g.V('article1')).property('comment', 'Great Job!')\n",
      "\tSuccess!\n"
     ]
    }
   ],
   "source": [
    "run([\"g.V('user1').addE('comment').to(g.V('article1')).property('comment', 'Great Job!')\"])"
   ]
  },
  {
   "cell_type": "markdown",
   "metadata": {},
   "source": [
    "Awesome, now you have some data in your graph database!. If you go to the Data Explorer you should be able to visualize it:\n",
    "![Cosmos DB](result.png)"
   ]
  },
  {
   "cell_type": "markdown",
   "metadata": {},
   "source": [
    "Great Job, now you know a bit more about graph databases!"
   ]
  },
  {
   "cell_type": "markdown",
   "metadata": {},
   "source": [
    "Let's clean up before we go..."
   ]
  },
  {
   "cell_type": "code",
   "execution_count": 61,
   "metadata": {},
   "outputs": [
    {
     "name": "stdout",
     "output_type": "stream",
     "text": [
      "\tRunning: g.V().drop()\n",
      "\tSuccess!\n"
     ]
    }
   ],
   "source": [
    "run([\"g.V().drop()\"])\n",
    "client.close()"
   ]
  },
  {
   "cell_type": "code",
   "execution_count": null,
   "metadata": {},
   "outputs": [],
   "source": []
  }
 ],
 "metadata": {
  "kernelspec": {
   "display_name": "Python 3",
   "language": "python",
   "name": "python3"
  },
  "language_info": {
   "codemirror_mode": {
    "name": "ipython",
    "version": 3
   },
   "file_extension": ".py",
   "mimetype": "text/x-python",
   "name": "python",
   "nbconvert_exporter": "python",
   "pygments_lexer": "ipython3",
   "version": "3.8.5"
  }
 },
 "nbformat": 4,
 "nbformat_minor": 4
}
